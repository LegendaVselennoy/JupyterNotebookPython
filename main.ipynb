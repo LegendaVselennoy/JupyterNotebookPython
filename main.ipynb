{
 "cells": [
  {
   "cell_type": "code",
   "execution_count": 8,
   "metadata": {},
   "outputs": [],
   "source": [
    "from sympy import *"
   ]
  },
  {
   "cell_type": "code",
   "execution_count": 12,
   "metadata": {},
   "outputs": [
    {
     "data": {
      "text/latex": [
       "$\\displaystyle \\sin^{2}{\\left(x \\right)} - \\cos^{2}{\\left(x \\right)}$"
      ],
      "text/plain": [
       "sin(x)**2 - cos(x)**2"
      ]
     },
     "execution_count": 12,
     "metadata": {},
     "output_type": "execute_result"
    }
   ],
   "source": [
    "#f(x) = sin(x)^2 - cos(x)^2\n",
    "# Определить корни\n",
    "# Найти интервалы, на которых функция возрастает\n",
    "# Найти интервалы, на которых функция убывает\n",
    "# Построить график\n",
    "# Вычислить вершину\n",
    "# Определить промежутки, на котором f > 0\n",
    "# Определить промежутки, на котором f < 0\n",
    "\n",
    "x=Symbol('x')\n",
    "expr=sin(x)**2-cos(x)**2\n",
    "expr"
   ]
  },
  {
   "cell_type": "code",
   "execution_count": 13,
   "metadata": {},
   "outputs": [
    {
     "data": {
      "text/plain": [
       "[-pi/4, pi/4]"
      ]
     },
     "execution_count": 13,
     "metadata": {},
     "output_type": "execute_result"
    }
   ],
   "source": [
    "expr_solve=solve(expr)\n",
    "expr_solve"
   ]
  },
  {
   "cell_type": "code",
   "execution_count": 14,
   "metadata": {},
   "outputs": [
    {
     "data": {
      "text/latex": [
       "$\\displaystyle 4 \\sin{\\left(x \\right)} \\cos{\\left(x \\right)}$"
      ],
      "text/plain": [
       "4*sin(x)*cos(x)"
      ]
     },
     "execution_count": 14,
     "metadata": {},
     "output_type": "execute_result"
    }
   ],
   "source": [
    "expr_diff=diff(expr)\n",
    "expr_diff"
   ]
  },
  {
   "cell_type": "code",
   "execution_count": 15,
   "metadata": {},
   "outputs": [
    {
     "name": "stdout",
     "output_type": "stream",
     "text": [
      "      1 |      .       .        .       .        .       .      \n",
      "        |               .                       .               \n",
      "        |     .                .         .                .     \n",
      "        |                                                       \n",
      "        |       .     .          .     .          .     .       \n",
      "        |                                                       \n",
      "        |                                                       \n",
      "        |                .    .           .    .                \n",
      "        |    .                                             .    \n",
      "        |                                                       \n",
      "      0 |-------------------------------------------------------\n",
      "        |        .   .            .   .            .   .        \n",
      "        |                                                       \n",
      "        |                                                       \n",
      "        |.                .                   .                .\n",
      "        |   .                .             .                .   \n",
      "        |                                                       \n",
      "        |         .                . .                .         \n",
      "        |           .                               .           \n",
      "        | ..               ..               ..               .. \n",
      "     -1 |_______________________________________________________\n",
      "         -10                        0                          10\n"
     ]
    }
   ],
   "source": [
    "graph=plot(expr)"
   ]
  },
  {
   "cell_type": "code",
   "execution_count": 16,
   "metadata": {},
   "outputs": [
    {
     "data": {
      "text/latex": [
       "$\\displaystyle 0 < x \\wedge x < \\frac{\\pi}{2}$"
      ],
      "text/plain": [
       "(0 < x) & (x < pi/2)"
      ]
     },
     "execution_count": 16,
     "metadata": {},
     "output_type": "execute_result"
    }
   ],
   "source": [
    "rise_exp=solve(expr_diff>0)\n",
    "rise_exp"
   ]
  },
  {
   "cell_type": "code",
   "execution_count": 17,
   "metadata": {},
   "outputs": [
    {
     "data": {
      "text/plain": [
       "[0, pi/2, pi, 3*pi/2]"
      ]
     },
     "execution_count": 17,
     "metadata": {},
     "output_type": "execute_result"
    }
   ],
   "source": [
    "peak_exp=solve(expr_diff)\n",
    "peak_exp"
   ]
  },
  {
   "cell_type": "code",
   "execution_count": 18,
   "metadata": {},
   "outputs": [
    {
     "data": {
      "text/latex": [
       "$\\displaystyle \\frac{\\pi}{4} < x \\wedge x < \\frac{3 \\pi}{4}$"
      ],
      "text/plain": [
       "(pi/4 < x) & (x < 3*pi/4)"
      ]
     },
     "execution_count": 18,
     "metadata": {},
     "output_type": "execute_result"
    }
   ],
   "source": [
    "peak_exp_origin=solve(expr>0)\n",
    "peak_exp_origin"
   ]
  },
  {
   "cell_type": "code",
   "execution_count": 19,
   "metadata": {},
   "outputs": [
    {
     "data": {
      "text/latex": [
       "$\\displaystyle \\left(0 \\leq x \\wedge x < \\frac{\\pi}{4}\\right) \\vee \\left(\\frac{3 \\pi}{4} < x \\wedge x < \\pi\\right)$"
      ],
      "text/plain": [
       "((0 <= x) & (x < pi/4)) | ((x < pi) & (3*pi/4 < x))"
      ]
     },
     "execution_count": 19,
     "metadata": {},
     "output_type": "execute_result"
    }
   ],
   "source": [
    "fall_exp_origin=solve(expr<0)\n",
    "fall_exp_origin"
   ]
  }
 ],
 "metadata": {
  "kernelspec": {
   "display_name": "Python 3",
   "language": "python",
   "name": "python3"
  },
  "language_info": {
   "codemirror_mode": {
    "name": "ipython",
    "version": 3
   },
   "file_extension": ".py",
   "mimetype": "text/x-python",
   "name": "python",
   "nbconvert_exporter": "python",
   "pygments_lexer": "ipython3",
   "version": "3.11.0"
  },
  "orig_nbformat": 4,
  "vscode": {
   "interpreter": {
    "hash": "3124f11bca902c8eba1635b379ac3a7a62cb0da0a136677af58062c16009c8c7"
   }
  }
 },
 "nbformat": 4,
 "nbformat_minor": 2
}
